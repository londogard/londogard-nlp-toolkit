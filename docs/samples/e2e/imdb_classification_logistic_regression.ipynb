{
 "cells": [
  {
   "cell_type": "code",
   "execution_count": 1,
   "metadata": {
    "pycharm": {
     "name": "#%%\n"
    }
   },
   "outputs": [
    {
     "data": {
      "text/html": [
       "            <div id=\"kotlin_out_0\"/>\n",
       "            <script type=\"text/javascript\">\n",
       "                            if(!window.kotlinQueues) {\n",
       "                window.kotlinQueues = {};\n",
       "            }\n",
       "            if(!window.kotlinQueues[\"DataFrame\"]) {\n",
       "                var resQueue = [];\n",
       "                window.kotlinQueues[\"DataFrame\"] = resQueue;\n",
       "                window[\"call_DataFrame\"] = function(f) {\n",
       "                    resQueue.push(f);\n",
       "                }\n",
       "            }\n",
       "            (function (){\n",
       "                var modifiers = [(function(script) {\n",
       "    script.src = \"https://cdn.jsdelivr.net/gh/Kotlin/dataframe@d6467c1389bc031958acd5310fce39167b5cc581/src/main/resources/init.js\"\n",
       "    script.type = \"text/javascript\";\n",
       "})];\n",
       "                var e = document.getElementById(\"kotlin_out_0\");\n",
       "                modifiers.forEach(function (gen) {\n",
       "                    var script = document.createElement(\"script\");\n",
       "                    gen(script)\n",
       "                    script.addEventListener(\"load\", function() {\n",
       "                        window[\"call_DataFrame\"] = function(f) {f();};\n",
       "                        window.kotlinQueues[\"DataFrame\"].forEach(function(f) {f();});\n",
       "                        window.kotlinQueues[\"DataFrame\"] = [];\n",
       "                    }, false);\n",
       "                    script.addEventListener(\"error\", function() {\n",
       "                        window[\"call_DataFrame\"] = function(f) {};\n",
       "                        window.kotlinQueues[\"DataFrame\"] = [];\n",
       "                        var div = document.createElement(\"div\");\n",
       "                        div.style.color = 'darkred';\n",
       "                        div.textContent = 'Error loading resource DataFrame';\n",
       "                        document.getElementById(\"kotlin_out_0\").appendChild(div);\n",
       "                    }, false);\n",
       "                    \n",
       "                    e.appendChild(script);\n",
       "                });\n",
       "            })();\n",
       "            </script>"
      ]
     },
     "metadata": {},
     "output_type": "display_data"
    },
    {
     "data": {
      "text/html": [
       "                <style>\n",
       "                :root {\n",
       "    --background: #fff;\n",
       "    --background-odd: #f5f5f5;\n",
       "    --background-hover: #d9edfd;\n",
       "    --header-text-color: #474747;\n",
       "    --text-color: #848484;\n",
       "    --text-color-dark: #000;\n",
       "    --text-color-medium: #737373;\n",
       "    --text-color-pale: #b3b3b3;\n",
       "    --inner-border-color: #aaa;\n",
       "    --bold-border-color: #000;\n",
       "    --link-color: #296eaa;\n",
       "    --link-color-pale: #296eaa;\n",
       "    --link-hover: #1a466c;\n",
       "}\n",
       "\n",
       ":root[theme=\"dark\"], :root [data-jp-theme-light=\"false\"]{\n",
       "    --background: #303030;\n",
       "    --background-odd: #3c3c3c;\n",
       "    --background-hover: #464646;\n",
       "    --header-text-color: #dddddd;\n",
       "    --text-color: #b3b3b3;\n",
       "    --text-color-dark: #dddddd;\n",
       "    --text-color-medium: #b2b2b2;\n",
       "    --text-color-pale: #737373;\n",
       "    --inner-border-color: #707070;\n",
       "    --bold-border-color: #777777;\n",
       "    --link-color: #008dc0;\n",
       "    --link-color-pale: #97e1fb;\n",
       "    --link-hover: #00688e;\n",
       "}\n",
       "\n",
       "table.dataframe {\n",
       "    font-family: \"Helvetica Neue\", Helvetica, Arial, sans-serif;\n",
       "    font-size: 12px;\n",
       "    background-color: var(--background);\n",
       "    color: var(--text-color-dark);\n",
       "    border: none;\n",
       "    border-collapse: collapse;\n",
       "}\n",
       "\n",
       "table.dataframe th, td {\n",
       "    padding: 6px;\n",
       "    border: 1px solid transparent;\n",
       "    text-align: left;\n",
       "}\n",
       "\n",
       "table.dataframe th {\n",
       "    background-color: var(--background);\n",
       "    color: var(--header-text-color);\n",
       "}\n",
       "\n",
       "table.dataframe td {\n",
       "    vertical-align: top;\n",
       "}\n",
       "\n",
       "table.dataframe th.bottomBorder {\n",
       "    border-bottom-color: var(--bold-border-color);\n",
       "}\n",
       "\n",
       "table.dataframe tbody > tr:nth-child(odd) {\n",
       "    background: var(--background-odd);\n",
       "}\n",
       "\n",
       "table.dataframe tbody > tr:nth-child(even) {\n",
       "    background: var(--background);\n",
       "}\n",
       "\n",
       "table.dataframe tbody > tr:hover {\n",
       "    background: var(--background-hover);\n",
       "}\n",
       "\n",
       "table.dataframe a {\n",
       "    cursor: pointer;\n",
       "    color: var(--link-color);\n",
       "    text-decoration: none;\n",
       "}\n",
       "\n",
       "table.dataframe tr:hover > td a {\n",
       "    color: var(--link-color-pale);\n",
       "}\n",
       "\n",
       "table.dataframe a:hover {\n",
       "    color: var(--link-hover);\n",
       "    text-decoration: underline;\n",
       "}\n",
       "\n",
       "table.dataframe img {\n",
       "    max-width: fit-content;\n",
       "}\n",
       "\n",
       "table.dataframe th.complex {\n",
       "    background-color: var(--background);\n",
       "    border: 1px solid var(--background);\n",
       "}\n",
       "\n",
       "table.dataframe .leftBorder {\n",
       "    border-left-color: var(--inner-border-color);\n",
       "}\n",
       "\n",
       "table.dataframe .rightBorder {\n",
       "    border-right-color: var(--inner-border-color);\n",
       "}\n",
       "\n",
       "table.dataframe .rightAlign {\n",
       "    text-align: right;\n",
       "}\n",
       "\n",
       "table.dataframe .expanderSvg {\n",
       "    width: 8px;\n",
       "    height: 8px;\n",
       "    margin-right: 3px;\n",
       "}\n",
       "\n",
       "table.dataframe .expander {\n",
       "    display: flex;\n",
       "    align-items: center;\n",
       "}\n",
       "\n",
       "/* formatting */\n",
       "\n",
       "table.dataframe .null {\n",
       "    color: var(--text-color-pale);\n",
       "}\n",
       "\n",
       "table.dataframe .structural {\n",
       "    color: var(--text-color-medium);\n",
       "    font-weight: bold;\n",
       "}\n",
       "\n",
       "table.dataframe .dataFrameCaption {\n",
       "    font-weight: bold;\n",
       "}\n",
       "\n",
       "table.dataframe .numbers {\n",
       "    color: var(--text-color-dark);\n",
       "}\n",
       "\n",
       "table.dataframe td:hover .formatted .structural, .null {\n",
       "    color: var(--text-color-dark);\n",
       "}\n",
       "\n",
       "table.dataframe tr:hover .formatted .structural, .null {\n",
       "    color: var(--text-color-dark);\n",
       "}\n",
       "\n",
       "\n",
       "                </style>"
      ]
     },
     "metadata": {},
     "output_type": "display_data"
    }
   ],
   "source": [
    "@file:DependsOn(\"com.londogard:nlp:1.2.0-BETA2\")\n",
    "%use dataframe"
   ]
  },
  {
   "cell_type": "markdown",
   "metadata": {},
   "source": [
    "# Classifying IMDB Reviews\n",
    "\n",
    "This is a simple end-2-end example of text classification"
   ]
  },
  {
   "cell_type": "code",
   "execution_count": 91,
   "metadata": {},
   "outputs": [
    {
     "data": {
      "text/html": [
       "        <html>\n",
       "        <head>\n",
       "            <style type=\"text/css\">\n",
       "                \n",
       "\n",
       "            </style>\n",
       "        </head>\n",
       "        <body>\n",
       "            <table class=\"dataframe\" id=\"df_134217750\"></table>\n",
       "\n",
       "<p>DataFrame: rowsCount = 5, columnsCount = 2</p>\n",
       "        </body>\n",
       "        <script>\n",
       "            /*<!--*/\n",
       "call_DataFrame(function() { DataFrame.addTable({ cols: [{ name: \"<span title=\\\"review: String\\\">review</span>\", children: [], rightAlign: false, values: [\"<span class=\\\"formatted\\\" title=\\\"What can you say when you see a good French movie which tries to draw a suspenseful story in line with the social background of the characters? The major point is we believe in those characters and once they&#39;ve met each other we want them to stay together. It&#39;s simple and really efficient. The background story is less important. Why does the screenplay go on the side of a half-developed thriller? It helps not to get stuck in those social demonstrations most French film-jerkers like to make. Not too much ambition, right: Sur mes l&#232;vres is only an entertaining French film with good characterization.&#60;br /&#62;&#60;br /&#62;For all the clever noir points in the screenplay the end is by far too easy. It goes quite as easy as in Rear Window (an obvious reference and definitely not a noir film) but with a less compelling context. Where I am amazed it&#39;s to see that the character of the probation officer has not been erased. He brings very little to the story; when he appears alone we wonder if we&#39;ve not missed a part before. Jacques Audiard is not a new-comer yet. Strange and weird.\\\">What can you say when you see a good <span class=\\\"structural\\\">...</span></span>\",\"<span class=\\\"formatted\\\" title=\\\"I loved this film almost as much as the origional version!What teenager DOESN&#39;T go through what Scamp&#39;s going through;wanting to find independence by getting more and more distant from your family?The songs were nice to,and the character designs were great.Lady and Tramp look almost exactly like they did in the origional feature.They did a good job on the voices of those two,too considering the fact that the origional voice actors are probably dead.However,I do think they should&#39;ve given more lines to Lady,Annette,Colette,and Daniel.Oh well;at least they had the common sense to keep the same scenery from the original film.\\\">I loved this film almost as much as t<span class=\\\"structural\\\">...</span></span>\",\"<span class=\\\"formatted\\\" title=\\\"Whoever says pokemon is stupid can die. This movie is superlative. I Even shead a tear when Celebei died. I DON&#39;T CRY Much! This film is a touching animated thriller. &#60;br /&#62;&#60;br /&#62;In this fourth installment of pokemon, Ash and friends must stop the bad jerk from making Celebei the ultimate evil weapon with his dark ball. In the time, Sam and Celebei travel through time and continuously are hunted by game hunters. I like the part with the double battle and Sam has the apricorn pokeball (if you&#39;ve played pokemon gold, silver, or crystal, you know what it is.)&#60;br /&#62;&#60;br /&#62;I also enjoyed having miramax in charge instead of Warner Brothers. Putting the mini movie at the end was a great idea. The pokemon in this movie come to life more than ever.\\\">Whoever says pokemon is stupid can di<span class=\\\"structural\\\">...</span></span>\",\"<span class=\\\"formatted\\\" title=\\\"Anyone who actually had the ability to sit through this movie and walk away feeling like it was a good film does not appreciate quality movies. This movie was an insult to watch, the direction was high school film class quality as well as the cinematography. The Blair Witch Project had better cinematography and I hate that move with a passion! The storyline had the potential to be a very intense very good movie but it fell flat from the first 10 minutes through the rest of the movie. Someone mentioned that this film was about a child&#39;s imagination, okay thats all good and fine. But they still could have done better things with this script than what they did. I mean come on, the Indian in the store. Did the kid look at the little idol and suddenly imagine the Indian and the entire story about an Indian spirit called Wendigo? Which they mention to the store employee and she casually says there is no one but me that works here, so you think okay creepy ghost scenario, but then she just barters for the amount on the idol and we forget about the little kid seeing this guy. That was so lame it goes beyond pathetic. The ending left you wondering not only what happened to Otis in the hospital but also with the feeling of OMG!!! Why the hell did I just waste my time watching this!! This is a move that I recommend NOT to watch, there are definitely better quality films out there that won&#39;t insult your intelligence! Thank god I never had to pay to see this movie, I would have demanded my money back! For those that were easily entertained by this movie.... it&#39;s very sad that you lowered your standards to this level of film making to actually say that it was a good movie.\\\">Anyone who actually had the ability t<span class=\\\"structural\\\">...</span></span>\",\"<span class=\\\"formatted\\\" title=\\\"One of the worst films I have ever seen. Got so bored that I switched it off midway through to watch the news. When I switched it back on, I fell asleep. The film starts with a dream, continues with a dream, and ends with a dream. Then there are a few more dreams in between. Come on, what is supposed to keep me interested in that? A film needs to have a reason to be interesting. The minute you felt the film was only a dream is when any sensible film-goer switches off. Ever had someone insist on telling you their dreams and what it means to them? This is it!!!&#60;br /&#62;&#60;br /&#62;Absolutely awful.\\\">One of the worst films I have ever se<span class=\\\"structural\\\">...</span></span>\"] }, \n",
       "{ name: \"<span title=\\\"sentiment: String\\\">sentiment</span>\", children: [], rightAlign: false, values: [\"positive\",\"positive\",\"positive\",\"negative\",\"negative\"] }, \n",
       "], id: 134217750, rootId: 134217750, totalRows: 5 } ) });\n",
       "/*-->*/\n",
       "\n",
       "call_DataFrame(function() { DataFrame.renderTable(134217750) });\n",
       "\n",
       "\n",
       "        </script>\n",
       "        </html>"
      ]
     },
     "execution_count": 91,
     "metadata": {},
     "output_type": "execute_result"
    }
   ],
   "source": [
    "val df = DataFrame.readCSV(\"imdb_small.csv\")\n",
    "df.head()"
   ]
  },
  {
   "cell_type": "markdown",
   "metadata": {},
   "source": [
    "Let's validate that we have evenly distributed data."
   ]
  },
  {
   "cell_type": "code",
   "execution_count": 92,
   "metadata": {},
   "outputs": [
    {
     "data": {
      "text/html": [
       "        <html>\n",
       "        <head>\n",
       "            <style type=\"text/css\">\n",
       "                \n",
       "\n",
       "            </style>\n",
       "        </head>\n",
       "        <body>\n",
       "            <table class=\"dataframe\" id=\"df_134217751\"></table>\n",
       "\n",
       "<p>DataFrame: rowsCount = 2, columnsCount = 2</p>\n",
       "        </body>\n",
       "        <script>\n",
       "            /*<!--*/\n",
       "call_DataFrame(function() { DataFrame.addTable({ cols: [{ name: \"<span title=\\\"sentiment: String\\\">sentiment</span>\", children: [], rightAlign: false, values: [\"positive\",\"negative\"] }, \n",
       "{ name: \"<span title=\\\"count: Int\\\">count</span>\", children: [], rightAlign: true, values: [\"<span class=\\\"formatted\\\" title=\\\"\\\"><span class=\\\"numbers\\\">2548</span></span>\",\"<span class=\\\"formatted\\\" title=\\\"\\\"><span class=\\\"numbers\\\">2452</span></span>\"] }, \n",
       "], id: 134217751, rootId: 134217751, totalRows: 2 } ) });\n",
       "/*-->*/\n",
       "\n",
       "call_DataFrame(function() { DataFrame.renderTable(134217751) });\n",
       "\n",
       "\n",
       "        </script>\n",
       "        </html>"
      ]
     },
     "execution_count": 92,
     "metadata": {},
     "output_type": "execute_result"
    }
   ],
   "source": [
    "df.valueCounts(\"sentiment\")"
   ]
  },
  {
   "cell_type": "markdown",
   "metadata": {},
   "source": [
    "Building a simple classifier directly on this, comparing Naïve Bayes with Logisitc Regression.\n",
    "\n",
    "1. Tokenize Data\n",
    "2. Encode Data\n",
    "  - BagOfWords\n",
    "  - TF-IDF\n",
    "  - BM-25\n",
    "  - ...\n",
    "3. Classify Data"
   ]
  },
  {
   "cell_type": "code",
   "execution_count": 93,
   "metadata": {},
   "outputs": [
    {
     "data": {
      "text/html": [
       "        <html>\n",
       "        <head>\n",
       "            <style type=\"text/css\">\n",
       "                \n",
       "\n",
       "            </style>\n",
       "        </head>\n",
       "        <body>\n",
       "            <table class=\"dataframe\" id=\"df_134217752\"></table>\n",
       "\n",
       "<p>DataFrame: rowsCount = 5, columnsCount = 3</p>\n",
       "        </body>\n",
       "        <script>\n",
       "            /*<!--*/\n",
       "call_DataFrame(function() { DataFrame.addTable({ cols: [{ name: \"<span title=\\\"review: String\\\">review</span>\", children: [], rightAlign: false, values: [\"<span class=\\\"formatted\\\" title=\\\"What can you say when you see a good French movie which tries to draw a suspenseful story in line with the social background of the characters? The major point is we believe in those characters and once they&#39;ve met each other we want them to stay together. It&#39;s simple and really efficient. The background story is less important. Why does the screenplay go on the side of a half-developed thriller? It helps not to get stuck in those social demonstrations most French film-jerkers like to make. Not too much ambition, right: Sur mes l&#232;vres is only an entertaining French film with good characterization.&#60;br /&#62;&#60;br /&#62;For all the clever noir points in the screenplay the end is by far too easy. It goes quite as easy as in Rear Window (an obvious reference and definitely not a noir film) but with a less compelling context. Where I am amazed it&#39;s to see that the character of the probation officer has not been erased. He brings very little to the story; when he appears alone we wonder if we&#39;ve not missed a part before. Jacques Audiard is not a new-comer yet. Strange and weird.\\\">What can you say when you see a good <span class=\\\"structural\\\">...</span></span>\",\"<span class=\\\"formatted\\\" title=\\\"I loved this film almost as much as the origional version!What teenager DOESN&#39;T go through what Scamp&#39;s going through;wanting to find independence by getting more and more distant from your family?The songs were nice to,and the character designs were great.Lady and Tramp look almost exactly like they did in the origional feature.They did a good job on the voices of those two,too considering the fact that the origional voice actors are probably dead.However,I do think they should&#39;ve given more lines to Lady,Annette,Colette,and Daniel.Oh well;at least they had the common sense to keep the same scenery from the original film.\\\">I loved this film almost as much as t<span class=\\\"structural\\\">...</span></span>\",\"<span class=\\\"formatted\\\" title=\\\"Whoever says pokemon is stupid can die. This movie is superlative. I Even shead a tear when Celebei died. I DON&#39;T CRY Much! This film is a touching animated thriller. &#60;br /&#62;&#60;br /&#62;In this fourth installment of pokemon, Ash and friends must stop the bad jerk from making Celebei the ultimate evil weapon with his dark ball. In the time, Sam and Celebei travel through time and continuously are hunted by game hunters. I like the part with the double battle and Sam has the apricorn pokeball (if you&#39;ve played pokemon gold, silver, or crystal, you know what it is.)&#60;br /&#62;&#60;br /&#62;I also enjoyed having miramax in charge instead of Warner Brothers. Putting the mini movie at the end was a great idea. The pokemon in this movie come to life more than ever.\\\">Whoever says pokemon is stupid can di<span class=\\\"structural\\\">...</span></span>\",\"<span class=\\\"formatted\\\" title=\\\"Anyone who actually had the ability to sit through this movie and walk away feeling like it was a good film does not appreciate quality movies. This movie was an insult to watch, the direction was high school film class quality as well as the cinematography. The Blair Witch Project had better cinematography and I hate that move with a passion! The storyline had the potential to be a very intense very good movie but it fell flat from the first 10 minutes through the rest of the movie. Someone mentioned that this film was about a child&#39;s imagination, okay thats all good and fine. But they still could have done better things with this script than what they did. I mean come on, the Indian in the store. Did the kid look at the little idol and suddenly imagine the Indian and the entire story about an Indian spirit called Wendigo? Which they mention to the store employee and she casually says there is no one but me that works here, so you think okay creepy ghost scenario, but then she just barters for the amount on the idol and we forget about the little kid seeing this guy. That was so lame it goes beyond pathetic. The ending left you wondering not only what happened to Otis in the hospital but also with the feeling of OMG!!! Why the hell did I just waste my time watching this!! This is a move that I recommend NOT to watch, there are definitely better quality films out there that won&#39;t insult your intelligence! Thank god I never had to pay to see this movie, I would have demanded my money back! For those that were easily entertained by this movie.... it&#39;s very sad that you lowered your standards to this level of film making to actually say that it was a good movie.\\\">Anyone who actually had the ability t<span class=\\\"structural\\\">...</span></span>\",\"<span class=\\\"formatted\\\" title=\\\"One of the worst films I have ever seen. Got so bored that I switched it off midway through to watch the news. When I switched it back on, I fell asleep. The film starts with a dream, continues with a dream, and ends with a dream. Then there are a few more dreams in between. Come on, what is supposed to keep me interested in that? A film needs to have a reason to be interesting. The minute you felt the film was only a dream is when any sensible film-goer switches off. Ever had someone insist on telling you their dreams and what it means to them? This is it!!!&#60;br /&#62;&#60;br /&#62;Absolutely awful.\\\">One of the worst films I have ever se<span class=\\\"structural\\\">...</span></span>\"] }, \n",
       "{ name: \"<span title=\\\"sentiment: String\\\">sentiment</span>\", children: [], rightAlign: false, values: [\"positive\",\"positive\",\"positive\",\"negative\",\"negative\"] }, \n",
       "{ name: \"<span title=\\\"tokens: List<String>\\\">tokens</span>\", children: [], rightAlign: false, values: [\"<span class=\\\"formatted\\\" title=\\\"What\\ncan\\nyou\\nsay\\nwhen\\nyou\\nsee\\na\\ngood\\nFrench\\nmovie\\nwhich\\ntries\\nto\\ndraw\\na\\nsuspenseful\\nstory\\nin\\nline\\nwith\\nthe\\nsocial\\nbackground\\nof\\nthe\\ncharacters\\n?\\nThe\\nmajor\\npoint\\nis\\nwe\\nbelieve\\nin\\nthose\\ncharacters\\nand\\nonce\\nthey&#39;ve\\nmet\\neach\\nother\\nwe\\nwant\\nthem\\nto\\nstay\\ntogether.\\nIt&#39;s\\nsimple\\nand\\nreally\\nefficient.\\nThe\\nbackground\\nstory\\nis\\nless\\nimportant.\\nWhy\\ndoes\\nthe\\nscreenplay\\ngo\\non\\nthe\\nside\\nof\\na\\nhalf-developed\\nthriller\\n?\\nIt\\nhelps\\nnot\\nto\\nget\\nstuck\\nin\\nthose\\nsocial\\ndemonstrations\\nmost\\nFrench\\nfilm-jerkers\\nlike\\nto\\nmake.\\nNot\\ntoo\\nmuch\\nambition\\n,\\nright:\\nSur\\nmes\\nl&#232;vres\\nis\\nonly\\nan\\nentertaining\\nFrench\\nfilm\\nwith\\ngood\\ncharacterization.&#60;br\\n/&#62;&#60;br\\n/&#62;For\\nall\\nthe\\nclever\\nnoir\\npoints\\nin\\nthe\\nscreenplay\\nthe\\nend\\nis\\nby\\nfar\\ntoo\\neasy.\\nIt\\ngoes\\nquite\\nas\\neasy\\nas\\nin\\nRear\\nWindow\\n(\\nan\\nobvious\\nreference\\nand\\ndefinitely\\nnot\\na\\nnoir\\nfilm\\n)\\nbut\\nwith\\na\\nless\\ncompelling\\ncontext.\\nWhere\\nI\\nam\\namazed\\nit&#39;s\\nto\\nsee\\nthat\\nthe\\ncharacter\\nof\\nthe\\nprobation\\nofficer\\nhas\\nnot\\nbeen\\nerased.\\nHe\\nbrings\\nvery\\nlittle\\nto\\nthe\\nstory\\n;\\nwhen\\nhe\\nappears\\nalone\\nwe\\nwonder\\nif\\nwe&#39;ve\\nnot\\nmissed\\na\\npart\\nbefore.\\nJacques\\nAudiard\\nis\\nnot\\na\\nnew-comer\\nyet.\\nStrange\\nand\\nweird\\n.\\\"><span class=\\\"structural\\\">[</span>What<span class=\\\"structural\\\">, </span>can<span class=\\\"structural\\\">, </span>you<span class=\\\"structural\\\">, </span>say<span class=\\\"structural\\\">, </span>when<span class=\\\"structural\\\">, </span>you<span class=\\\"structural\\\">, </span><span class=\\\"structural\\\">...</span><span class=\\\"structural\\\">]</span></span>\",\"<span class=\\\"formatted\\\" title=\\\"I\\nloved\\nthis\\nfilm\\nalmost\\nas\\nmuch\\nas\\nthe\\norigional\\nversion\\n!\\nWhat\\nteenager\\nDOESN&#39;T\\ngo\\nthrough\\nwhat\\nScamp&#39;s\\ngoing\\nthrough\\n;\\nwanting\\nto\\nfind\\nindependence\\nby\\ngetting\\nmore\\nand\\nmore\\ndistant\\nfrom\\nyour\\nfamily\\n?\\nThe\\nsongs\\nwere\\nnice\\nto,and\\nthe\\ncharacter\\ndesigns\\nwere\\ngreat.Lady\\nand\\nTramp\\nlook\\nalmost\\nexactly\\nlike\\nthey\\ndid\\nin\\nthe\\norigional\\nfeature.They\\ndid\\na\\ngood\\njob\\non\\nthe\\nvoices\\nof\\nthose\\ntwo,too\\nconsidering\\nthe\\nfact\\nthat\\nthe\\norigional\\nvoice\\nactors\\nare\\nprobably\\ndead.However,I\\ndo\\nthink\\nthey\\nshould&#39;ve\\ngiven\\nmore\\nlines\\nto\\nLady,Annette,Colette,and\\nDaniel.Oh\\nwell\\n;\\nat\\nleast\\nthey\\nhad\\nthe\\ncommon\\nsense\\nto\\nkeep\\nthe\\nsame\\nscenery\\nfrom\\nthe\\noriginal\\nfilm\\n.\\\"><span class=\\\"structural\\\">[</span>I<span class=\\\"structural\\\">, </span>loved<span class=\\\"structural\\\">, </span>this<span class=\\\"structural\\\">, </span>film<span class=\\\"structural\\\">, </span>almost<span class=\\\"structural\\\">, </span>as<span class=\\\"structural\\\">, </span><span class=\\\"structural\\\">...</span><span class=\\\"structural\\\">]</span></span>\",\"<span class=\\\"formatted\\\" title=\\\"Whoever\\nsays\\npokemon\\nis\\nstupid\\ncan\\ndie.\\nThis\\nmovie\\nis\\nsuperlative.\\nI\\nEven\\nshead\\na\\ntear\\nwhen\\nCelebei\\ndied.\\nI\\nDON&#39;T\\nCRY\\nMuch\\n!\\nThis\\nfilm\\nis\\na\\ntouching\\nanimated\\nthriller.\\n&#60;br\\n/&#62;&#60;br\\n/&#62;In\\nthis\\nfourth\\ninstallment\\nof\\npokemon\\n,\\nAsh\\nand\\nfriends\\nmust\\nstop\\nthe\\nbad\\njerk\\nfrom\\nmaking\\nCelebei\\nthe\\nultimate\\nevil\\nweapon\\nwith\\nhis\\ndark\\nball.\\nIn\\nthe\\ntime\\n,\\nSam\\nand\\nCelebei\\ntravel\\nthrough\\ntime\\nand\\ncontinuously\\nare\\nhunted\\nby\\ngame\\nhunters.\\nI\\nlike\\nthe\\npart\\nwith\\nthe\\ndouble\\nbattle\\nand\\nSam\\nhas\\nthe\\napricorn\\npokeball\\n(\\nif\\nyou&#39;ve\\nplayed\\npokemon\\ngold\\n,\\nsilver\\n,\\nor\\ncrystal\\n,\\nyou\\nknow\\nwhat\\nit\\nis.\\n)\\n&#60;br\\n/&#62;&#60;br\\n/&#62;I\\nalso\\nenjoyed\\nhaving\\nmiramax\\nin\\ncharge\\ninstead\\nof\\nWarner\\nBrothers.\\nPutting\\nthe\\nmini\\nmovie\\nat\\nthe\\nend\\nwas\\na\\ngreat\\nidea.\\nThe\\npokemon\\nin\\nthis\\nmovie\\ncome\\nto\\nlife\\nmore\\nthan\\never\\n.\\\"><span class=\\\"structural\\\">[</span>Whoever<span class=\\\"structural\\\">, </span>says<span class=\\\"structural\\\">, </span>pokemon<span class=\\\"structural\\\">, </span>is<span class=\\\"structural\\\">, </span>st<span class=\\\"structural\\\">...</span><span class=\\\"structural\\\">, </span><span class=\\\"structural\\\">...</span><span class=\\\"structural\\\">]</span></span>\",\"<span class=\\\"formatted\\\" title=\\\"Anyone\\nwho\\nactually\\nhad\\nthe\\nability\\nto\\nsit\\nthrough\\nthis\\nmovie\\nand\\nwalk\\naway\\nfeeling\\nlike\\nit\\nwas\\na\\ngood\\nfilm\\ndoes\\nnot\\nappreciate\\nquality\\nmovies.\\nThis\\nmovie\\nwas\\nan\\ninsult\\nto\\nwatch\\n,\\nthe\\ndirection\\nwas\\nhigh\\nschool\\nfilm\\nclass\\nquality\\nas\\nwell\\nas\\nthe\\ncinematography.\\nThe\\nBlair\\nWitch\\nProject\\nhad\\nbetter\\ncinematography\\nand\\nI\\nhate\\nthat\\nmove\\nwith\\na\\npassion\\n!\\nThe\\nstoryline\\nhad\\nthe\\npotential\\nto\\nbe\\na\\nvery\\nintense\\nvery\\ngood\\nmovie\\nbut\\nit\\nfell\\nflat\\nfrom\\nthe\\nfirst\\n10\\nminutes\\nthrough\\nthe\\nrest\\nof\\nthe\\nmovie.\\nSomeone\\nmentioned\\nthat\\nthis\\nfilm\\nwas\\nabout\\na\\nchild&#39;s\\nimagination\\n,\\nokay\\nthats\\nall\\ngood\\nand\\nfine.\\nBut\\nthey\\nstill\\ncould\\nhave\\ndone\\nbetter\\nthings\\nwith\\nthis\\nscript\\nthan\\nwhat\\nthey\\ndid.\\nI\\nmean\\ncome\\non\\n,\\nthe\\nIndian\\nin\\nthe\\nstore.\\nDid\\nthe\\nkid\\nlook\\nat\\nthe\\nlittle\\nidol\\nand\\nsuddenly\\nimagine\\nthe\\nIndian\\nand\\nthe\\nentire\\nstory\\nabout\\nan\\nIndian\\nspirit\\ncalled\\nWendigo\\n?\\nWhich\\nthey\\nmention\\nto\\nthe\\nstore\\nemployee\\nand\\nshe\\ncasually\\nsays\\nthere\\nis\\nno\\none\\nbut\\nme\\nthat\\nworks\\nhere\\n,\\nso\\nyou\\nthink\\nokay\\ncreepy\\nghost\\nscenario\\n,\\nbut\\nthen\\nshe\\njust\\nbarters\\nfor\\nthe\\namount\\non\\nthe\\nidol\\nand\\nwe\\nforget\\nabout\\nthe\\nlittle\\nkid\\nseeing\\nthis\\nguy.\\nThat\\nwas\\nso\\nlame\\nit\\ngoes\\nbeyond\\npathetic.\\nThe\\nending\\nleft\\nyou\\nwondering\\nnot\\nonly\\nwhat\\nhappened\\nto\\nOtis\\nin\\nthe\\nhospital\\nbut\\nalso\\nwith\\nthe\\nfeeling\\nof\\nOMG\\n!\\n!\\n!\\nWhy\\nthe\\nhell\\ndid\\nI\\njust\\nwaste\\nmy\\ntime\\nwatching\\nthis\\n!\\n!\\nThis\\nis\\na\\nmove\\nthat\\nI\\nrecommend\\nNOT\\nto\\nwatch\\n,\\nthere\\nare\\ndefinitely\\nbetter\\nquality\\nfilms\\nout\\nthere\\nthat\\nwon&#39;t\\ninsult\\nyour\\nintelligence\\n!\\nThank\\ngod\\nI\\nnever\\nhad\\nto\\npay\\nto\\nsee\\nthis\\nmovie\\n,\\nI\\nwould\\nhave\\ndemanded\\nmy\\nmoney\\nback\\n!\\nFor\\nthose\\nthat\\nwere\\neasily\\nentertained\\nby\\nthis\\nmovie\\n....\\nit&#39;s\\nvery\\nsad\\nthat\\nyou\\nlowered\\nyour\\nstandards\\nto\\nthis\\nlevel\\nof\\nfilm\\nmaking\\nto\\nactually\\nsay\\nthat\\nit\\nwas\\na\\ngood\\nmovie\\n.\\\"><span class=\\\"structural\\\">[</span>Anyone<span class=\\\"structural\\\">, </span>who<span class=\\\"structural\\\">, </span>actually<span class=\\\"structural\\\">, </span>had<span class=\\\"structural\\\">, </span>the<span class=\\\"structural\\\">, </span><span class=\\\"structural\\\">...</span><span class=\\\"structural\\\">]</span></span>\",\"<span class=\\\"formatted\\\" title=\\\"One\\nof\\nthe\\nworst\\nfilms\\nI\\nhave\\never\\nseen.\\nGot\\nso\\nbored\\nthat\\nI\\nswitched\\nit\\noff\\nmidway\\nthrough\\nto\\nwatch\\nthe\\nnews.\\nWhen\\nI\\nswitched\\nit\\nback\\non\\n,\\nI\\nfell\\nasleep.\\nThe\\nfilm\\nstarts\\nwith\\na\\ndream\\n,\\ncontinues\\nwith\\na\\ndream\\n,\\nand\\nends\\nwith\\na\\ndream.\\nThen\\nthere\\nare\\na\\nfew\\nmore\\ndreams\\nin\\nbetween.\\nCome\\non\\n,\\nwhat\\nis\\nsupposed\\nto\\nkeep\\nme\\ninterested\\nin\\nthat\\n?\\nA\\nfilm\\nneeds\\nto\\nhave\\na\\nreason\\nto\\nbe\\ninteresting.\\nThe\\nminute\\nyou\\nfelt\\nthe\\nfilm\\nwas\\nonly\\na\\ndream\\nis\\nwhen\\nany\\nsensible\\nfilm-goer\\nswitches\\noff.\\nEver\\nhad\\nsomeone\\ninsist\\non\\ntelling\\nyou\\ntheir\\ndreams\\nand\\nwhat\\nit\\nmeans\\nto\\nthem\\n?\\nThis\\nis\\nit\\n!\\n!\\n!\\n&#60;br\\n/&#62;&#60;br\\n/&#62;Absolutely\\nawful\\n.\\\"><span class=\\\"structural\\\">[</span>One<span class=\\\"structural\\\">, </span>of<span class=\\\"structural\\\">, </span>the<span class=\\\"structural\\\">, </span>worst<span class=\\\"structural\\\">, </span>films<span class=\\\"structural\\\">, </span>I<span class=\\\"structural\\\">, </span><span class=\\\"structural\\\">...</span><span class=\\\"structural\\\">]</span></span>\"] }, \n",
       "], id: 134217752, rootId: 134217752, totalRows: 5 } ) });\n",
       "/*-->*/\n",
       "\n",
       "call_DataFrame(function() { DataFrame.renderTable(134217752) });\n",
       "\n",
       "\n",
       "        </script>\n",
       "        </html>"
      ]
     },
     "execution_count": 93,
     "metadata": {},
     "output_type": "execute_result"
    }
   ],
   "source": [
    "import com.londogard.nlp.tokenizer.SimpleTokenizer\n",
    "\n",
    "val tokenizer = SimpleTokenizer()\n",
    "val dfWithTokens = df.add(\"tokens\") { tokenizer.split(review) }\n",
    "dfWithTokens.head()"
   ]
  },
  {
   "cell_type": "code",
   "execution_count": 95,
   "metadata": {},
   "outputs": [
    {
     "data": {
      "text/html": [
       "        <html>\n",
       "        <head>\n",
       "            <style type=\"text/css\">\n",
       "                \n",
       "\n",
       "            </style>\n",
       "        </head>\n",
       "        <body>\n",
       "            <table class=\"dataframe\" id=\"df_134217753\"></table>\n",
       "\n",
       "<p>DataFrame: rowsCount = 5, columnsCount = 4</p>\n",
       "        </body>\n",
       "        <script>\n",
       "            /*<!--*/\n",
       "call_DataFrame(function() { DataFrame.addTable({ cols: [{ name: \"<span title=\\\"review: String\\\">review</span>\", children: [], rightAlign: false, values: [\"<span class=\\\"formatted\\\" title=\\\"What can you say when you see a good French movie which tries to draw a suspenseful story in line with the social background of the characters? The major point is we believe in those characters and once they&#39;ve met each other we want them to stay together. It&#39;s simple and really efficient. The background story is less important. Why does the screenplay go on the side of a half-developed thriller? It helps not to get stuck in those social demonstrations most French film-jerkers like to make. Not too much ambition, right: Sur mes l&#232;vres is only an entertaining French film with good characterization.&#60;br /&#62;&#60;br /&#62;For all the clever noir points in the screenplay the end is by far too easy. It goes quite as easy as in Rear Window (an obvious reference and definitely not a noir film) but with a less compelling context. Where I am amazed it&#39;s to see that the character of the probation officer has not been erased. He brings very little to the story; when he appears alone we wonder if we&#39;ve not missed a part before. Jacques Audiard is not a new-comer yet. Strange and weird.\\\">What can you say when you see a good <span class=\\\"structural\\\">...</span></span>\",\"<span class=\\\"formatted\\\" title=\\\"I loved this film almost as much as the origional version!What teenager DOESN&#39;T go through what Scamp&#39;s going through;wanting to find independence by getting more and more distant from your family?The songs were nice to,and the character designs were great.Lady and Tramp look almost exactly like they did in the origional feature.They did a good job on the voices of those two,too considering the fact that the origional voice actors are probably dead.However,I do think they should&#39;ve given more lines to Lady,Annette,Colette,and Daniel.Oh well;at least they had the common sense to keep the same scenery from the original film.\\\">I loved this film almost as much as t<span class=\\\"structural\\\">...</span></span>\",\"<span class=\\\"formatted\\\" title=\\\"Whoever says pokemon is stupid can die. This movie is superlative. I Even shead a tear when Celebei died. I DON&#39;T CRY Much! This film is a touching animated thriller. &#60;br /&#62;&#60;br /&#62;In this fourth installment of pokemon, Ash and friends must stop the bad jerk from making Celebei the ultimate evil weapon with his dark ball. In the time, Sam and Celebei travel through time and continuously are hunted by game hunters. I like the part with the double battle and Sam has the apricorn pokeball (if you&#39;ve played pokemon gold, silver, or crystal, you know what it is.)&#60;br /&#62;&#60;br /&#62;I also enjoyed having miramax in charge instead of Warner Brothers. Putting the mini movie at the end was a great idea. The pokemon in this movie come to life more than ever.\\\">Whoever says pokemon is stupid can di<span class=\\\"structural\\\">...</span></span>\",\"<span class=\\\"formatted\\\" title=\\\"Anyone who actually had the ability to sit through this movie and walk away feeling like it was a good film does not appreciate quality movies. This movie was an insult to watch, the direction was high school film class quality as well as the cinematography. The Blair Witch Project had better cinematography and I hate that move with a passion! The storyline had the potential to be a very intense very good movie but it fell flat from the first 10 minutes through the rest of the movie. Someone mentioned that this film was about a child&#39;s imagination, okay thats all good and fine. But they still could have done better things with this script than what they did. I mean come on, the Indian in the store. Did the kid look at the little idol and suddenly imagine the Indian and the entire story about an Indian spirit called Wendigo? Which they mention to the store employee and she casually says there is no one but me that works here, so you think okay creepy ghost scenario, but then she just barters for the amount on the idol and we forget about the little kid seeing this guy. That was so lame it goes beyond pathetic. The ending left you wondering not only what happened to Otis in the hospital but also with the feeling of OMG!!! Why the hell did I just waste my time watching this!! This is a move that I recommend NOT to watch, there are definitely better quality films out there that won&#39;t insult your intelligence! Thank god I never had to pay to see this movie, I would have demanded my money back! For those that were easily entertained by this movie.... it&#39;s very sad that you lowered your standards to this level of film making to actually say that it was a good movie.\\\">Anyone who actually had the ability t<span class=\\\"structural\\\">...</span></span>\",\"<span class=\\\"formatted\\\" title=\\\"One of the worst films I have ever seen. Got so bored that I switched it off midway through to watch the news. When I switched it back on, I fell asleep. The film starts with a dream, continues with a dream, and ends with a dream. Then there are a few more dreams in between. Come on, what is supposed to keep me interested in that? A film needs to have a reason to be interesting. The minute you felt the film was only a dream is when any sensible film-goer switches off. Ever had someone insist on telling you their dreams and what it means to them? This is it!!!&#60;br /&#62;&#60;br /&#62;Absolutely awful.\\\">One of the worst films I have ever se<span class=\\\"structural\\\">...</span></span>\"] }, \n",
       "{ name: \"<span title=\\\"sentiment: String\\\">sentiment</span>\", children: [], rightAlign: false, values: [\"positive\",\"positive\",\"positive\",\"negative\",\"negative\"] }, \n",
       "{ name: \"<span title=\\\"tokens: List<String>\\\">tokens</span>\", children: [], rightAlign: false, values: [\"<span class=\\\"formatted\\\" title=\\\"What\\ncan\\nyou\\nsay\\nwhen\\nyou\\nsee\\na\\ngood\\nFrench\\nmovie\\nwhich\\ntries\\nto\\ndraw\\na\\nsuspenseful\\nstory\\nin\\nline\\nwith\\nthe\\nsocial\\nbackground\\nof\\nthe\\ncharacters\\n?\\nThe\\nmajor\\npoint\\nis\\nwe\\nbelieve\\nin\\nthose\\ncharacters\\nand\\nonce\\nthey&#39;ve\\nmet\\neach\\nother\\nwe\\nwant\\nthem\\nto\\nstay\\ntogether.\\nIt&#39;s\\nsimple\\nand\\nreally\\nefficient.\\nThe\\nbackground\\nstory\\nis\\nless\\nimportant.\\nWhy\\ndoes\\nthe\\nscreenplay\\ngo\\non\\nthe\\nside\\nof\\na\\nhalf-developed\\nthriller\\n?\\nIt\\nhelps\\nnot\\nto\\nget\\nstuck\\nin\\nthose\\nsocial\\ndemonstrations\\nmost\\nFrench\\nfilm-jerkers\\nlike\\nto\\nmake.\\nNot\\ntoo\\nmuch\\nambition\\n,\\nright:\\nSur\\nmes\\nl&#232;vres\\nis\\nonly\\nan\\nentertaining\\nFrench\\nfilm\\nwith\\ngood\\ncharacterization.&#60;br\\n/&#62;&#60;br\\n/&#62;For\\nall\\nthe\\nclever\\nnoir\\npoints\\nin\\nthe\\nscreenplay\\nthe\\nend\\nis\\nby\\nfar\\ntoo\\neasy.\\nIt\\ngoes\\nquite\\nas\\neasy\\nas\\nin\\nRear\\nWindow\\n(\\nan\\nobvious\\nreference\\nand\\ndefinitely\\nnot\\na\\nnoir\\nfilm\\n)\\nbut\\nwith\\na\\nless\\ncompelling\\ncontext.\\nWhere\\nI\\nam\\namazed\\nit&#39;s\\nto\\nsee\\nthat\\nthe\\ncharacter\\nof\\nthe\\nprobation\\nofficer\\nhas\\nnot\\nbeen\\nerased.\\nHe\\nbrings\\nvery\\nlittle\\nto\\nthe\\nstory\\n;\\nwhen\\nhe\\nappears\\nalone\\nwe\\nwonder\\nif\\nwe&#39;ve\\nnot\\nmissed\\na\\npart\\nbefore.\\nJacques\\nAudiard\\nis\\nnot\\na\\nnew-comer\\nyet.\\nStrange\\nand\\nweird\\n.\\\"><span class=\\\"structural\\\">[</span>What<span class=\\\"structural\\\">, </span>can<span class=\\\"structural\\\">, </span>you<span class=\\\"structural\\\">, </span>say<span class=\\\"structural\\\">, </span>when<span class=\\\"structural\\\">, </span>you<span class=\\\"structural\\\">, </span><span class=\\\"structural\\\">...</span><span class=\\\"structural\\\">]</span></span>\",\"<span class=\\\"formatted\\\" title=\\\"I\\nloved\\nthis\\nfilm\\nalmost\\nas\\nmuch\\nas\\nthe\\norigional\\nversion\\n!\\nWhat\\nteenager\\nDOESN&#39;T\\ngo\\nthrough\\nwhat\\nScamp&#39;s\\ngoing\\nthrough\\n;\\nwanting\\nto\\nfind\\nindependence\\nby\\ngetting\\nmore\\nand\\nmore\\ndistant\\nfrom\\nyour\\nfamily\\n?\\nThe\\nsongs\\nwere\\nnice\\nto,and\\nthe\\ncharacter\\ndesigns\\nwere\\ngreat.Lady\\nand\\nTramp\\nlook\\nalmost\\nexactly\\nlike\\nthey\\ndid\\nin\\nthe\\norigional\\nfeature.They\\ndid\\na\\ngood\\njob\\non\\nthe\\nvoices\\nof\\nthose\\ntwo,too\\nconsidering\\nthe\\nfact\\nthat\\nthe\\norigional\\nvoice\\nactors\\nare\\nprobably\\ndead.However,I\\ndo\\nthink\\nthey\\nshould&#39;ve\\ngiven\\nmore\\nlines\\nto\\nLady,Annette,Colette,and\\nDaniel.Oh\\nwell\\n;\\nat\\nleast\\nthey\\nhad\\nthe\\ncommon\\nsense\\nto\\nkeep\\nthe\\nsame\\nscenery\\nfrom\\nthe\\noriginal\\nfilm\\n.\\\"><span class=\\\"structural\\\">[</span>I<span class=\\\"structural\\\">, </span>loved<span class=\\\"structural\\\">, </span>this<span class=\\\"structural\\\">, </span>film<span class=\\\"structural\\\">, </span>almost<span class=\\\"structural\\\">, </span>as<span class=\\\"structural\\\">, </span><span class=\\\"structural\\\">...</span><span class=\\\"structural\\\">]</span></span>\",\"<span class=\\\"formatted\\\" title=\\\"Whoever\\nsays\\npokemon\\nis\\nstupid\\ncan\\ndie.\\nThis\\nmovie\\nis\\nsuperlative.\\nI\\nEven\\nshead\\na\\ntear\\nwhen\\nCelebei\\ndied.\\nI\\nDON&#39;T\\nCRY\\nMuch\\n!\\nThis\\nfilm\\nis\\na\\ntouching\\nanimated\\nthriller.\\n&#60;br\\n/&#62;&#60;br\\n/&#62;In\\nthis\\nfourth\\ninstallment\\nof\\npokemon\\n,\\nAsh\\nand\\nfriends\\nmust\\nstop\\nthe\\nbad\\njerk\\nfrom\\nmaking\\nCelebei\\nthe\\nultimate\\nevil\\nweapon\\nwith\\nhis\\ndark\\nball.\\nIn\\nthe\\ntime\\n,\\nSam\\nand\\nCelebei\\ntravel\\nthrough\\ntime\\nand\\ncontinuously\\nare\\nhunted\\nby\\ngame\\nhunters.\\nI\\nlike\\nthe\\npart\\nwith\\nthe\\ndouble\\nbattle\\nand\\nSam\\nhas\\nthe\\napricorn\\npokeball\\n(\\nif\\nyou&#39;ve\\nplayed\\npokemon\\ngold\\n,\\nsilver\\n,\\nor\\ncrystal\\n,\\nyou\\nknow\\nwhat\\nit\\nis.\\n)\\n&#60;br\\n/&#62;&#60;br\\n/&#62;I\\nalso\\nenjoyed\\nhaving\\nmiramax\\nin\\ncharge\\ninstead\\nof\\nWarner\\nBrothers.\\nPutting\\nthe\\nmini\\nmovie\\nat\\nthe\\nend\\nwas\\na\\ngreat\\nidea.\\nThe\\npokemon\\nin\\nthis\\nmovie\\ncome\\nto\\nlife\\nmore\\nthan\\never\\n.\\\"><span class=\\\"structural\\\">[</span>Whoever<span class=\\\"structural\\\">, </span>says<span class=\\\"structural\\\">, </span>pokemon<span class=\\\"structural\\\">, </span>is<span class=\\\"structural\\\">, </span>st<span class=\\\"structural\\\">...</span><span class=\\\"structural\\\">, </span><span class=\\\"structural\\\">...</span><span class=\\\"structural\\\">]</span></span>\",\"<span class=\\\"formatted\\\" title=\\\"Anyone\\nwho\\nactually\\nhad\\nthe\\nability\\nto\\nsit\\nthrough\\nthis\\nmovie\\nand\\nwalk\\naway\\nfeeling\\nlike\\nit\\nwas\\na\\ngood\\nfilm\\ndoes\\nnot\\nappreciate\\nquality\\nmovies.\\nThis\\nmovie\\nwas\\nan\\ninsult\\nto\\nwatch\\n,\\nthe\\ndirection\\nwas\\nhigh\\nschool\\nfilm\\nclass\\nquality\\nas\\nwell\\nas\\nthe\\ncinematography.\\nThe\\nBlair\\nWitch\\nProject\\nhad\\nbetter\\ncinematography\\nand\\nI\\nhate\\nthat\\nmove\\nwith\\na\\npassion\\n!\\nThe\\nstoryline\\nhad\\nthe\\npotential\\nto\\nbe\\na\\nvery\\nintense\\nvery\\ngood\\nmovie\\nbut\\nit\\nfell\\nflat\\nfrom\\nthe\\nfirst\\n10\\nminutes\\nthrough\\nthe\\nrest\\nof\\nthe\\nmovie.\\nSomeone\\nmentioned\\nthat\\nthis\\nfilm\\nwas\\nabout\\na\\nchild&#39;s\\nimagination\\n,\\nokay\\nthats\\nall\\ngood\\nand\\nfine.\\nBut\\nthey\\nstill\\ncould\\nhave\\ndone\\nbetter\\nthings\\nwith\\nthis\\nscript\\nthan\\nwhat\\nthey\\ndid.\\nI\\nmean\\ncome\\non\\n,\\nthe\\nIndian\\nin\\nthe\\nstore.\\nDid\\nthe\\nkid\\nlook\\nat\\nthe\\nlittle\\nidol\\nand\\nsuddenly\\nimagine\\nthe\\nIndian\\nand\\nthe\\nentire\\nstory\\nabout\\nan\\nIndian\\nspirit\\ncalled\\nWendigo\\n?\\nWhich\\nthey\\nmention\\nto\\nthe\\nstore\\nemployee\\nand\\nshe\\ncasually\\nsays\\nthere\\nis\\nno\\none\\nbut\\nme\\nthat\\nworks\\nhere\\n,\\nso\\nyou\\nthink\\nokay\\ncreepy\\nghost\\nscenario\\n,\\nbut\\nthen\\nshe\\njust\\nbarters\\nfor\\nthe\\namount\\non\\nthe\\nidol\\nand\\nwe\\nforget\\nabout\\nthe\\nlittle\\nkid\\nseeing\\nthis\\nguy.\\nThat\\nwas\\nso\\nlame\\nit\\ngoes\\nbeyond\\npathetic.\\nThe\\nending\\nleft\\nyou\\nwondering\\nnot\\nonly\\nwhat\\nhappened\\nto\\nOtis\\nin\\nthe\\nhospital\\nbut\\nalso\\nwith\\nthe\\nfeeling\\nof\\nOMG\\n!\\n!\\n!\\nWhy\\nthe\\nhell\\ndid\\nI\\njust\\nwaste\\nmy\\ntime\\nwatching\\nthis\\n!\\n!\\nThis\\nis\\na\\nmove\\nthat\\nI\\nrecommend\\nNOT\\nto\\nwatch\\n,\\nthere\\nare\\ndefinitely\\nbetter\\nquality\\nfilms\\nout\\nthere\\nthat\\nwon&#39;t\\ninsult\\nyour\\nintelligence\\n!\\nThank\\ngod\\nI\\nnever\\nhad\\nto\\npay\\nto\\nsee\\nthis\\nmovie\\n,\\nI\\nwould\\nhave\\ndemanded\\nmy\\nmoney\\nback\\n!\\nFor\\nthose\\nthat\\nwere\\neasily\\nentertained\\nby\\nthis\\nmovie\\n....\\nit&#39;s\\nvery\\nsad\\nthat\\nyou\\nlowered\\nyour\\nstandards\\nto\\nthis\\nlevel\\nof\\nfilm\\nmaking\\nto\\nactually\\nsay\\nthat\\nit\\nwas\\na\\ngood\\nmovie\\n.\\\"><span class=\\\"structural\\\">[</span>Anyone<span class=\\\"structural\\\">, </span>who<span class=\\\"structural\\\">, </span>actually<span class=\\\"structural\\\">, </span>had<span class=\\\"structural\\\">, </span>the<span class=\\\"structural\\\">, </span><span class=\\\"structural\\\">...</span><span class=\\\"structural\\\">]</span></span>\",\"<span class=\\\"formatted\\\" title=\\\"One\\nof\\nthe\\nworst\\nfilms\\nI\\nhave\\never\\nseen.\\nGot\\nso\\nbored\\nthat\\nI\\nswitched\\nit\\noff\\nmidway\\nthrough\\nto\\nwatch\\nthe\\nnews.\\nWhen\\nI\\nswitched\\nit\\nback\\non\\n,\\nI\\nfell\\nasleep.\\nThe\\nfilm\\nstarts\\nwith\\na\\ndream\\n,\\ncontinues\\nwith\\na\\ndream\\n,\\nand\\nends\\nwith\\na\\ndream.\\nThen\\nthere\\nare\\na\\nfew\\nmore\\ndreams\\nin\\nbetween.\\nCome\\non\\n,\\nwhat\\nis\\nsupposed\\nto\\nkeep\\nme\\ninterested\\nin\\nthat\\n?\\nA\\nfilm\\nneeds\\nto\\nhave\\na\\nreason\\nto\\nbe\\ninteresting.\\nThe\\nminute\\nyou\\nfelt\\nthe\\nfilm\\nwas\\nonly\\na\\ndream\\nis\\nwhen\\nany\\nsensible\\nfilm-goer\\nswitches\\noff.\\nEver\\nhad\\nsomeone\\ninsist\\non\\ntelling\\nyou\\ntheir\\ndreams\\nand\\nwhat\\nit\\nmeans\\nto\\nthem\\n?\\nThis\\nis\\nit\\n!\\n!\\n!\\n&#60;br\\n/&#62;&#60;br\\n/&#62;Absolutely\\nawful\\n.\\\"><span class=\\\"structural\\\">[</span>One<span class=\\\"structural\\\">, </span>of<span class=\\\"structural\\\">, </span>the<span class=\\\"structural\\\">, </span>worst<span class=\\\"structural\\\">, </span>films<span class=\\\"structural\\\">, </span>I<span class=\\\"structural\\\">, </span><span class=\\\"structural\\\">...</span><span class=\\\"structural\\\">]</span></span>\"] }, \n",
       "{ name: \"<span title=\\\"category: Int\\\">category</span>\", children: [], rightAlign: true, values: [\"<span class=\\\"formatted\\\" title=\\\"\\\"><span class=\\\"numbers\\\">1</span></span>\",\"<span class=\\\"formatted\\\" title=\\\"\\\"><span class=\\\"numbers\\\">1</span></span>\",\"<span class=\\\"formatted\\\" title=\\\"\\\"><span class=\\\"numbers\\\">1</span></span>\",\"<span class=\\\"formatted\\\" title=\\\"\\\"><span class=\\\"numbers\\\">0</span></span>\",\"<span class=\\\"formatted\\\" title=\\\"\\\"><span class=\\\"numbers\\\">0</span></span>\"] }, \n",
       "], id: 134217753, rootId: 134217753, totalRows: 5 } ) });\n",
       "/*-->*/\n",
       "\n",
       "call_DataFrame(function() { DataFrame.renderTable(134217753) });\n",
       "\n",
       "\n",
       "        </script>\n",
       "        </html>"
      ]
     },
     "execution_count": 95,
     "metadata": {},
     "output_type": "execute_result"
    }
   ],
   "source": [
    "val dfToNaiveBayes = dfWithTokens.add(\"category\") { if (sentiment == \"positive\") 1 else 0 }\n",
    "dfToNaiveBayes.head()"
   ]
  },
  {
   "cell_type": "code",
   "execution_count": 88,
   "metadata": {},
   "outputs": [],
   "source": [
    "data class SplittedData<T, I>(val xTrain: List<T>, val xValid: List<T>, val yTrain: List<I>, val yValid: List<I>)\n",
    "\n",
    "fun <T, I> splitToTrainTest(x: List<T>, y: List<I>, split: Float = 0.7f): SplittedData<T, I> {\n",
    "    require(x.size == y.size) { \"x and y must be equal length! Is ${x.size} != ${y.size}\" }\n",
    "    val (xSize, ySize) = (x.size * split).toInt() to (y.size * split).toInt()\n",
    "\n",
    "    return SplittedData(x.slice(0 until xSize), x.slice(xSize until x.size), y.slice(0 until ySize), y.slice(ySize until y.size))\n",
    "}"
   ]
  },
  {
   "cell_type": "code",
   "execution_count": 96,
   "metadata": {},
   "outputs": [],
   "source": [
    "import com.londogard.nlp.meachinelearning.vectorizer.count.CountVectorizer\n",
    "import org.jetbrains.kotlinx.multik.api.mk\n",
    "import org.jetbrains.kotlinx.multik.api.ndarray\n",
    "\n",
    "val vectorizer = CountVectorizer<Int>()\n",
    "val x = dfToNaiveBayes.get{ tokens } .toList()\n",
    "val yArray = dfToNaiveBayes.get { category }.toIntArray()\n",
    "\n",
    "val splitData = splitToTrainTest(x, y)"
   ]
  },
  {
   "cell_type": "code",
   "execution_count": 97,
   "metadata": {},
   "outputs": [],
   "source": [
    "import com.londogard.nlp.meachinelearning.predictors.classifiers.NaiveBayes\n",
    "import com.londogard.nlp.meachinelearning.predictors.classifiers.LogisticRegression\n",
    "import com.londogard.nlp.meachinelearning.predictors.asAutoOneHotClassifier\n",
    "\n",
    "\n",
    "val xTrain = vectorizer.fitTransform(splitData.xTrain)\n",
    "val xValid = vectorizer.transform(splitData.xValid)"
   ]
  },
  {
   "cell_type": "code",
   "execution_count": 109,
   "metadata": {},
   "outputs": [],
   "source": [
    "import org.jetbrains.kotlinx.multik.api.mk.get\n",
    "\n",
    "val classifier = LogisticRegression().asAutoOneHotClassifier()\n",
    "classifier.fit(xTrain, mk.ndarray(splitData.yTrain))"
   ]
  },
  {
   "cell_type": "code",
   "execution_count": 110,
   "metadata": {},
   "outputs": [
    {
     "name": "stderr",
     "output_type": "stream",
     "text": [
      "Line_3619.jupyter-kts (2:1 - 13) Unresolved reference. None of the following candidates is applicable because of receiver type mismatch: \n",
      "public operator fun MatchGroupCollection.get(name: String): MatchGroup? defined in kotlin.text\n",
      "Line_3619.jupyter-kts (2:6 - 13) No get method providing array access"
     ]
    }
   ],
   "source": [
    "val yPred = classifier.predictSimple(xValid)\n",
    "yPred[0..10]"
   ]
  },
  {
   "cell_type": "code",
   "execution_count": 107,
   "metadata": {},
   "outputs": [
    {
     "data": {
      "text/plain": [
       "0.5393333333333333"
      ]
     },
     "execution_count": 107,
     "metadata": {},
     "output_type": "execute_result"
    }
   ],
   "source": [
    "import com.londogard.nlp.meachinelearning.metrics.Metrics\n",
    "\n",
    "Metrics.accuracy(yPred.reshape(yPred.size, 1), mk.ndarray(splitData.yValid).reshape(yPred.size, 1))"
   ]
  },
  {
   "cell_type": "markdown",
   "metadata": {},
   "source": [
    "How about we rather use **TF-IDF**?"
   ]
  },
  {
   "cell_type": "code",
   "execution_count": null,
   "metadata": {},
   "outputs": [],
   "source": []
  }
 ],
 "metadata": {
  "kernelspec": {
   "display_name": "Kotlin",
   "language": "kotlin",
   "name": "kotlin"
  },
  "language_info": {
   "codemirror_mode": "text/x-kotlin",
   "file_extension": ".kt",
   "mimetype": "text/x-kotlin",
   "name": "kotlin",
   "nbconvert_exporter": "",
   "pygments_lexer": "kotlin",
   "version": "1.8.0-dev-707"
  }
 },
 "nbformat": 4,
 "nbformat_minor": 1
}
