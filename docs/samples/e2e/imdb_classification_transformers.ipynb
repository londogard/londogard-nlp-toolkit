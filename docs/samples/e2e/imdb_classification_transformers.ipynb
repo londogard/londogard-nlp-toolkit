{
 "cells": [
  {
   "cell_type": "code",
   "execution_count": 2,
   "metadata": {
    "pycharm": {
     "name": "#%%\n"
    }
   },
   "outputs": [],
   "source": [
    "@file:DependsOn(\"com.londogard:nlp:1.2.0-BETA3\")\n",
    "%use dataframe"
   ]
  },
  {
   "cell_type": "markdown",
   "metadata": {},
   "source": [
    "# Sentiment Analysis using Transformers (via HuggingFace)\n",
    "\n",
    "Let's do some sentiment analysis via HuggingFace!"
   ]
  },
  {
   "cell_type": "code",
   "execution_count": 7,
   "metadata": {},
   "outputs": [
    {
     "data": {
      "text/html": [
       "        <html>\n",
       "        <head>\n",
       "            <style type=\"text/css\">\n",
       "                \n",
       "\n",
       "            </style>\n",
       "        </head>\n",
       "        <body>\n",
       "            <table class=\"dataframe\" id=\"df_1124073476\"></table>\n",
       "\n",
       "<p>DataFrame: rowsCount = 5, columnsCount = 2</p>\n",
       "        </body>\n",
       "        <script>\n",
       "            /*<!--*/\n",
       "call_DataFrame(function() { DataFrame.addTable({ cols: [{ name: \"<span title=\\\"review: String\\\">review</span>\", children: [], rightAlign: false, values: [\"<span class=\\\"formatted\\\" title=\\\"What can you say when you see a good French movie which tries to draw a suspenseful story in line with the social background of the characters? The major point is we believe in those characters and once they&#39;ve met each other we want them to stay together. It&#39;s simple and really efficient. The background story is less important. Why does the screenplay go on the side of a half-developed thriller? It helps not to get stuck in those social demonstrations most French film-jerkers like to make. Not too much ambition, right: Sur mes l&#232;vres is only an entertaining French film with good characterization.&#60;br /&#62;&#60;br /&#62;For all the clever noir points in the screenplay the end is by far too easy. It goes quite as easy as in Rear Window (an obvious reference and definitely not a noir film) but with a less compelling context. Where I am amazed it&#39;s to see that the character of the probation officer has not been erased. He brings very little to the story; when he appears alone we wonder if we&#39;ve not missed a part before. Jacques Audiard is not a new-comer yet. Strange and weird.\\\">What can you say when you see a good <span class=\\\"structural\\\">...</span></span>\",\"<span class=\\\"formatted\\\" title=\\\"I loved this film almost as much as the origional version!What teenager DOESN&#39;T go through what Scamp&#39;s going through;wanting to find independence by getting more and more distant from your family?The songs were nice to,and the character designs were great.Lady and Tramp look almost exactly like they did in the origional feature.They did a good job on the voices of those two,too considering the fact that the origional voice actors are probably dead.However,I do think they should&#39;ve given more lines to Lady,Annette,Colette,and Daniel.Oh well;at least they had the common sense to keep the same scenery from the original film.\\\">I loved this film almost as much as t<span class=\\\"structural\\\">...</span></span>\",\"<span class=\\\"formatted\\\" title=\\\"Whoever says pokemon is stupid can die. This movie is superlative. I Even shead a tear when Celebei died. I DON&#39;T CRY Much! This film is a touching animated thriller. &#60;br /&#62;&#60;br /&#62;In this fourth installment of pokemon, Ash and friends must stop the bad jerk from making Celebei the ultimate evil weapon with his dark ball. In the time, Sam and Celebei travel through time and continuously are hunted by game hunters. I like the part with the double battle and Sam has the apricorn pokeball (if you&#39;ve played pokemon gold, silver, or crystal, you know what it is.)&#60;br /&#62;&#60;br /&#62;I also enjoyed having miramax in charge instead of Warner Brothers. Putting the mini movie at the end was a great idea. The pokemon in this movie come to life more than ever.\\\">Whoever says pokemon is stupid can di<span class=\\\"structural\\\">...</span></span>\",\"<span class=\\\"formatted\\\" title=\\\"Anyone who actually had the ability to sit through this movie and walk away feeling like it was a good film does not appreciate quality movies. This movie was an insult to watch, the direction was high school film class quality as well as the cinematography. The Blair Witch Project had better cinematography and I hate that move with a passion! The storyline had the potential to be a very intense very good movie but it fell flat from the first 10 minutes through the rest of the movie. Someone mentioned that this film was about a child&#39;s imagination, okay thats all good and fine. But they still could have done better things with this script than what they did. I mean come on, the Indian in the store. Did the kid look at the little idol and suddenly imagine the Indian and the entire story about an Indian spirit called Wendigo? Which they mention to the store employee and she casually says there is no one but me that works here, so you think okay creepy ghost scenario, but then she just barters for the amount on the idol and we forget about the little kid seeing this guy. That was so lame it goes beyond pathetic. The ending left you wondering not only what happened to Otis in the hospital but also with the feeling of OMG!!! Why the hell did I just waste my time watching this!! This is a move that I recommend NOT to watch, there are definitely better quality films out there that won&#39;t insult your intelligence! Thank god I never had to pay to see this movie, I would have demanded my money back! For those that were easily entertained by this movie.... it&#39;s very sad that you lowered your standards to this level of film making to actually say that it was a good movie.\\\">Anyone who actually had the ability t<span class=\\\"structural\\\">...</span></span>\",\"<span class=\\\"formatted\\\" title=\\\"One of the worst films I have ever seen. Got so bored that I switched it off midway through to watch the news. When I switched it back on, I fell asleep. The film starts with a dream, continues with a dream, and ends with a dream. Then there are a few more dreams in between. Come on, what is supposed to keep me interested in that? A film needs to have a reason to be interesting. The minute you felt the film was only a dream is when any sensible film-goer switches off. Ever had someone insist on telling you their dreams and what it means to them? This is it!!!&#60;br /&#62;&#60;br /&#62;Absolutely awful.\\\">One of the worst films I have ever se<span class=\\\"structural\\\">...</span></span>\"] }, \n",
       "{ name: \"<span title=\\\"sentiment: String\\\">sentiment</span>\", children: [], rightAlign: false, values: [\"positive\",\"positive\",\"positive\",\"negative\",\"negative\"] }, \n",
       "], id: 1124073476, rootId: 1124073476, totalRows: 5 } ) });\n",
       "/*-->*/\n",
       "\n",
       "call_DataFrame(function() { DataFrame.renderTable(1124073476) });\n",
       "\n",
       "\n",
       "        </script>\n",
       "        </html>"
      ]
     },
     "execution_count": 7,
     "metadata": {},
     "output_type": "execute_result"
    }
   ],
   "source": [
    "val df = DataFrame.readCSV(\"imdb_small.csv\").take(50)\n",
    "df.head()"
   ]
  },
  {
   "cell_type": "code",
   "execution_count": 8,
   "metadata": {},
   "outputs": [
    {
     "data": {
      "text/html": [
       "        <html>\n",
       "        <head>\n",
       "            <style type=\"text/css\">\n",
       "                \n",
       "\n",
       "            </style>\n",
       "        </head>\n",
       "        <body>\n",
       "            <table class=\"dataframe\" id=\"df_1124073477\"></table>\n",
       "\n",
       "<p>DataFrame: rowsCount = 2, columnsCount = 2</p>\n",
       "        </body>\n",
       "        <script>\n",
       "            /*<!--*/\n",
       "call_DataFrame(function() { DataFrame.addTable({ cols: [{ name: \"<span title=\\\"sentiment: String\\\">sentiment</span>\", children: [], rightAlign: false, values: [\"positive\",\"negative\"] }, \n",
       "{ name: \"<span title=\\\"count: Int\\\">count</span>\", children: [], rightAlign: true, values: [\"<span class=\\\"formatted\\\" title=\\\"\\\"><span class=\\\"numbers\\\">31</span></span>\",\"<span class=\\\"formatted\\\" title=\\\"\\\"><span class=\\\"numbers\\\">19</span></span>\"] }, \n",
       "], id: 1124073477, rootId: 1124073477, totalRows: 2 } ) });\n",
       "/*-->*/\n",
       "\n",
       "call_DataFrame(function() { DataFrame.renderTable(1124073477) });\n",
       "\n",
       "\n",
       "        </script>\n",
       "        </html>"
      ]
     },
     "execution_count": 8,
     "metadata": {},
     "output_type": "execute_result"
    }
   ],
   "source": [
    "df.valueCounts(\"sentiment\")"
   ]
  },
  {
   "cell_type": "code",
   "execution_count": 10,
   "metadata": {},
   "outputs": [
    {
     "name": "stdout",
     "output_type": "stream",
     "text": [
      "\r",
      "Loading:     100% |████████████████████████████████████████|\n"
     ]
    }
   ],
   "source": [
    "import com.londogard.nlp.meachinelearning.predictors.transformers.ClassifierPipeline\n",
    "\n",
    "val pipeline = ClassifierPipeline.create(\"optimum/distilbert-base-uncased-finetuned-sst-2-english\")"
   ]
  },
  {
   "cell_type": "code",
   "execution_count": 16,
   "metadata": {},
   "outputs": [
    {
     "data": {
      "text/plain": [
       "POSITIVE"
      ]
     },
     "execution_count": 16,
     "metadata": {},
     "output_type": "execute_result"
    }
   ],
   "source": [
    "pipeline.predict(\"LOL AM I RIGHT or am I NOT\")"
   ]
  },
  {
   "cell_type": "code",
   "execution_count": 19,
   "metadata": {},
   "outputs": [
    {
     "data": {
      "text/plain": [
       "0.88"
      ]
     },
     "execution_count": 19,
     "metadata": {},
     "output_type": "execute_result"
    }
   ],
   "source": [
    "df.get {review}.toList()\n",
    "    .map { pipeline.predict(it.take(1000)) }\n",
    "    .toList()\n",
    "    .zip(df.get { sentiment.map {it.uppercase()} }.toList()) { a,b -> if (a==b) 1 else 0}\n",
    "    .average()"
   ]
  }
 ],
 "metadata": {
  "kernelspec": {
   "display_name": "Kotlin",
   "language": "kotlin",
   "name": "kotlin"
  },
  "language_info": {
   "codemirror_mode": "text/x-kotlin",
   "file_extension": ".kt",
   "mimetype": "text/x-kotlin",
   "name": "kotlin",
   "nbconvert_exporter": "",
   "pygments_lexer": "kotlin",
   "version": "1.7.20-dev-1299"
  }
 },
 "nbformat": 4,
 "nbformat_minor": 1
}
