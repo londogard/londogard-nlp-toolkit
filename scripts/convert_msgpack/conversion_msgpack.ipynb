{
 "metadata": {
  "language_info": {
   "codemirror_mode": {
    "name": "ipython",
    "version": 3
   },
   "file_extension": ".py",
   "mimetype": "text/x-python",
   "name": "python",
   "nbconvert_exporter": "python",
   "pygments_lexer": "ipython3",
   "version": "3.8.3-final"
  },
  "orig_nbformat": 2,
  "kernelspec": {
   "name": "python3",
   "display_name": "Python 3",
   "language": "python"
  }
 },
 "nbformat": 4,
 "nbformat_minor": 2,
 "cells": [
  {
   "cell_type": "code",
   "execution_count": 18,
   "metadata": {},
   "outputs": [],
   "source": [
    "import gzip\n",
    "from pathlib import Path\n",
    "import msgpack\n",
    "\n",
    "ext_length = len('.msgpack.gz')"
   ]
  },
  {
   "cell_type": "code",
   "execution_count": 3,
   "metadata": {},
   "outputs": [
    {
     "output_type": "execute_result",
     "data": {
      "text/plain": [
       "PosixPath('/home/londogard/git/londogard-nlp-toolkit/data/wordfreq')"
      ]
     },
     "metadata": {},
     "execution_count": 3
    }
   ],
   "source": [
    "root_path = Path(\"/home/londogard/git/londogard-nlp-toolkit/data/wordfreq\")\n",
    "root_path"
   ]
  },
  {
   "cell_type": "code",
   "execution_count": 23,
   "metadata": {},
   "outputs": [
    {
     "output_type": "execute_result",
     "data": {
      "text/plain": [
       "'a b'"
      ]
     },
     "metadata": {},
     "execution_count": 23
    }
   ],
   "source": [
    "def data_to_line(dataarray):\n",
    "    return ' '.join(dataarray)\n",
    "data_to_line(['a', 'b'])"
   ]
  },
  {
   "cell_type": "code",
   "execution_count": 31,
   "metadata": {
    "tags": []
   },
   "outputs": [],
   "source": [
    "for filename in root_path.glob(\"*.gz\"):\n",
    "    with gzip.open(filename, 'rb') as f:\n",
    "        data = msgpack.load(f, raw=False)\n",
    "        header = data[0]\n",
    "    with open(filename.name[:-ext_length], 'w') as f:\n",
    "        lines = [data_to_line(d) for d in data[1:]]\n",
    "        all_lines = '\\n'.join(lines)\n",
    "        f.write(all_lines)"
   ]
  },
  {
   "cell_type": "code",
   "execution_count": null,
   "metadata": {},
   "outputs": [],
   "source": []
  }
 ]
}