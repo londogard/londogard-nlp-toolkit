{
 "cells": [
  {
   "cell_type": "code",
   "execution_count": null,
   "id": "1f53c2c2",
   "metadata": {
    "pycharm": {
     "name": "#%%\n"
    }
   },
   "outputs": [],
   "source": [
    "%use londogard-nlp-toolkit"
   ]
  },
  {
   "cell_type": "markdown",
   "id": "2ca88d47",
   "metadata": {
    "pycharm": {
     "name": "#%% md\n"
    }
   },
   "source": [
    "# Londogard NLP Toolkit\n",
    "This is a simple toolkit for Natural Language Processing (NLP) which will contain utilities that are very handy while prototyping but also for production deployment because of smart utilisation of resources.  \n",
    "The initial aim is not to solve problems end-2-end but rather have a simple small dependency with great utilities.\n",
    "\n",
    "## Supported Utilities\n",
    "\n",
    "All completed utilities with simple usage accompanied. `LanguageSupport.<ISO_2_COUNTRY_CODE>` helps figuring out what is supported.\n",
    "\n",
    "- [Word Embeddings](#WordEmbeddings) including basic Word Embeddings, 'Light Word Embeddings' & BytePairEmbeddings\n",
    "    - The Embeddings include automated downloads of languages to simplify your life, unless a path is specified.\n",
    "    - WordEmbeddings include 157 languages via `fastText`-embeddings ([fastText.cc](https://fasttext.cc/docs/en/crawl-vectors.html))\n",
    "    - BPE-Embeddings include 275 languages via `BPEmb`-embeddings ([nlp.h-its.org](https://nlp.h-its.org/bpemb/))\n",
    "    - All embeddings support ∞ languages through your own self-trained embeddings if a file-path is supplied!\n",
    "- [Sentence Embeddings](#SentenceEmbeddings) including `AvgSentenceEmbeddings` & `USifEmbeddings`\n",
    "- [Tokenizers](#Tokenizers) including Word, Char & Subword (SentencePiece) tokenizers (simple to add custom logic)\n",
    "    - SentencePiece include 275 languages via `BPEmb`-embeddings ([nlp.h-its.org](https://nlp.h-its.org/bpemb/)) with 8 vocab-sizes (1000, 3000, 10_000, 25_000, 50_000, 100_000, 200_000).\n",
    "        - Of course possible to supply your own tokenizer if you've a path to a trained one!\n",
    "- [Stopwords](#Stopwords) based on NLTKs list\n",
    "    - Supporting: ar, az, da, de, el, en, es, fi, fr, hu, id, it, kk, ne, nl, no, pt, ro, ru, sl, sv, tg & tr\n",
    "- [Word Frequencies](#WordFrequencies) based on `wordfreq.py` by [LuminosoInsight](https://github.com/LuminosoInsight/wordfreq/).\n",
    "    - Supporting: ar, cs, de, en, es, fi, fr, it, ja, nl, pl, uk, pt, ru, zh, bg, bn, ca, da, el, fa, he, hi, hu, id, ko, lv, mk, ms, nb, ro, sh, sv & tr. Some of these support \"Large Word Frequency\", call `LanguageSupport.<LANG_CODE>.largestWordFrequency()` to see if `large` variant is available.\n",
    "- [Stemmer](#Stemmer) based on [Snowball Stemmer](https://snowballstem.org/)\n",
    "    - Supporting: sv, nl, en, fi, fr, de, hu, it, no, pt, ro, ru, es & tr\n",
    "- [Trie](#Trie) - Just a basic utility that is to be used for a custom SubwordTokenizer in the future.\n",
    "- [Vectorizer](#Vectorizer) - Vectorizers & Transformers. Include BM25, TF-IDF & BagOfWords (CountVectorizer).\n",
    "- [Classifiers](#Classifiers) - Classifiers that predicts a class (label), includes Logisitc Regression & Naïve Bayes.\n",
    "- [Regression](#Regression) - Linear Regression which is a simple regression.\n",
    "- [Sequence Classifier](#SequenceClassifier) - Hidden Markov Model to predict sequences like Part of Speech (PoS).\n",
    "- [Keyword Extraction](#KeywordExtraction) - Co-occurence statistical keyword extraction."
   ]
  },
  {
   "cell_type": "markdown",
   "id": "f82a3890",
   "metadata": {
    "pycharm": {
     "name": "#%% md\n"
    }
   },
   "source": [
    "### Trie\n",
    "\n",
    "`TrieNode` is the entering point and we have `TrieNode<K,V>`."
   ]
  },
  {
   "cell_type": "code",
   "execution_count": null,
   "id": "f85b8cc7",
   "metadata": {
    "pycharm": {
     "name": "#%%\n"
    }
   },
   "outputs": [],
   "source": [
    "val trie: TreeNode<Char, Int> = TreeNode.ofData(listOf(listOf('h', 'e', 'j') to 3, listOf('h', 'o', 'j') to 15))"
   ]
  },
  {
   "cell_type": "markdown",
   "id": "c8a078f4",
   "metadata": {
    "pycharm": {
     "name": "#%% md\n"
    }
   },
   "source": [
    "### Vectorizer\n",
    "Vectorizers and Transformers\n",
    "\n",
    "A `Vectorizer` takes raw string input and outputs a vectorized format.\n",
    "A `Transformer` on the other way takes vectorized input and outputs a new vectorized format, _transformed_.\n",
    "\n",
    "The interface looks like the following:\n",
    "```kotlin\n",
    "interface Vectorizer<INPUT: Number, OUTPUT: Number> {\n",
    "    fun fit(input: List<List<String>>): Unit\n",
    "    fun transform(input: List<List<String>>): D2FloatArray\n",
    "    fun fitTransform(input: List<List<String>>): D2FloatArray\n",
    "}\n",
    "\n",
    "interface Transformer<INPUT: Number, OUTPUT: Number> {\n",
    "    fun fit(input: MultiArray<Float, D2>): Unit\n",
    "    fun transform(input: MultiArray<Float, D2>): MultiArray<Float, D2>\n",
    "    fun fitTransform(input: MultiArray<Float, D2>): MultiArray<Float, D2>\n",
    "}\n",
    "```\n",
    "\n",
    "Using this is very simple and all have the same way of interacting, simply replace the vectorizer for what you wish to use - here is a TF-IDF Vectorizer."
   ]
  },
  {
   "cell_type": "code",
   "execution_count": null,
   "id": "6708aeee",
   "metadata": {
    "pycharm": {
     "name": "#%%\n"
    }
   },
   "outputs": [],
   "source": [
    "val simpleTok = SimpleTokenizer()\n",
    "val simpleTexts = val simpleTexts = listOf(\"hello world!\", \"this is a few sentences\")\n",
    "    .map(simpleTok::split)\n",
    "val tfidf = TfIdfVectorizer<Float>()\n",
    "\n",
    "val lhs = tfidf.fitTransform(simpleTexts)\n",
    "println(\"Vectorized: $lhs\")"
   ]
  },
  {
   "cell_type": "markdown",
   "id": "d5b9c903",
   "metadata": {
    "pycharm": {
     "name": "#%% md\n"
    }
   },
   "source": [
    "### Classifiers\n",
    "Classifiers predicts labels / classes based on a vectorized input.\n",
    "\n",
    "Interface\n",
    "```kotlin\n",
    "interface Classifier: BasePredictor<Int> {\n",
    "    fun fit(X: MultiArray<Float, D2>, y: D2Array<Int>)\n",
    "    fun predict(X: MultiArray<Float, D2>): D2Array<Int>\n",
    "}\n",
    "```\n",
    "\n",
    "TODO"
   ]
  },
  {
   "cell_type": "markdown",
   "id": "ee9e5721",
   "metadata": {
    "pycharm": {
     "name": "#%% md\n"
    }
   },
   "source": [
    "### Regression\n",
    "Regressors predicts a continuous value based on a continous input.\n",
    "\n",
    "Interface\n",
    "```kotlin\n",
    "interface Regressor: BasePredictor<Int> {\n",
    "    fun fit(X: MultiArray<Float, D2>, y: D2Array<Float>)\n",
    "    fun predict(X: MultiArray<Float, D2>): D2Array<Float    >\n",
    "}\n",
    "```\n",
    "\n",
    "TODO"
   ]
  },
  {
   "cell_type": "markdown",
   "id": "9b7e918d",
   "metadata": {
    "pycharm": {
     "name": "#%% md\n"
    }
   },
   "source": [
    "### SequenceClassifier\n",
    "A Sequence Classifier predicts a sequence of labels based on a sequence as a input, as an example it can be if a word is a verb, noun or something different.\n",
    "\n",
    "Currently only Hidden Markov Model (HMM) is supported.\n",
    "The interface is as follows:\n",
    "\n",
    "```kotlin\n",
    "\n",
    "interface SequenceClassifier<T : Number> {\n",
    "    // Using List<> as the input can be of different sizes between examples\n",
    "    fun fit(X: List<D1Array<T>>, y: List<D1Array<Int>>)\n",
    "    fun predict(X: List<D1Array<T>>): List<D1Array<Int>>\n",
    "}\n",
    "```\n",
    "\n",
    "TODO"
   ]
  },
  {
   "cell_type": "markdown",
   "id": "2d5b741e",
   "metadata": {
    "pycharm": {
     "name": "#%% md\n"
    }
   },
   "source": [
    "### KeywordExtraction\n",
    "It's possible to extract keywords.\n",
    "\n",
    "```kotlin\n",
    "interface Keywords<T: Number> {\n",
    "    fun keywords(\n",
    "        text: String,\n",
    "        top: Int = 10,\n",
    "        languageSupport: LanguageSupport = LanguageSupport.en\n",
    "    ): List<Pair<List<String>, T>>\n",
    "}\n",
    "\n",
    "object CooccurrenceKeywords: Keywords<Int>\n",
    "```\n",
    "\n",
    "Where the return is a list of keyword(s) and their score(s)."
   ]
  },
  {
   "cell_type": "markdown",
   "id": "038471e3",
   "metadata": {
    "pycharm": {
     "name": "#%% md\n"
    }
   },
   "source": []
  }
 ],
 "metadata": {
  "kernelspec": {
   "display_name": "Kotlin",
   "language": "kotlin",
   "name": "kotlin"
  },
  "language_info": {
   "codemirror_mode": "text/x-kotlin",
   "file_extension": ".kt",
   "mimetype": "text/x-kotlin",
   "name": "kotlin",
   "nbconvert_exporter": "",
   "pygments_lexer": "kotlin",
   "version": "1.7.20-dev-1299"
  }
 },
 "nbformat": 4,
 "nbformat_minor": 5
}
